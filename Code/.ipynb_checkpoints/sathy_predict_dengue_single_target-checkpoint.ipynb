{
 "cells": [
  {
   "cell_type": "markdown",
   "metadata": {},
   "source": [
    "# Dengue prediction of Dhaka, Bangladesh"
   ]
  },
  {
   "cell_type": "markdown",
   "metadata": {},
   "source": [
    "### Consider weather(temperature, humidity, rainfall)"
   ]
  },
  {
   "cell_type": "markdown",
   "metadata": {},
   "source": [
    "### insert all necessary files and packages"
   ]
  },
  {
   "cell_type": "code",
   "execution_count": 1,
   "metadata": {},
   "outputs": [
    {
     "name": "stdout",
     "output_type": "stream",
     "text": [
      "WARNING:tensorflow:From C:\\Users\\User\\anaconda3\\Lib\\site-packages\\keras\\src\\losses.py:2976: The name tf.losses.sparse_softmax_cross_entropy is deprecated. Please use tf.compat.v1.losses.sparse_softmax_cross_entropy instead.\n",
      "\n"
     ]
    }
   ],
   "source": [
    "import numpy as np\n",
    "import pandas as pd\n",
    "from sklearn.preprocessing import MinMaxScaler, StandardScaler\n",
    "from sklearn.model_selection import train_test_split\n",
    "from tensorflow.keras.models import Sequential\n",
    "from tensorflow.keras.layers import LSTM, Dense\n",
    "import matplotlib.pyplot as plt\n",
    "from sklearn.metrics import mean_squared_error, mean_absolute_error, r2_score, accuracy_score\n",
    "from tensorflow.keras.callbacks import ModelCheckpoint\n",
    "from sklearn.neighbors import KNeighborsClassifier\n",
    "from xgboost import XGBClassifier\n",
    "from sklearn.svm import SVC\n",
    "from sklearn.ensemble import GradientBoostingRegressor\n"
   ]
  },
  {
   "cell_type": "markdown",
   "metadata": {},
   "source": [
    "### Import dengue cases database(2015 to 2023)"
   ]
  },
  {
   "cell_type": "code",
   "execution_count": 2,
   "metadata": {},
   "outputs": [],
   "source": [
    "# Load dataset\n",
    "df = pd.read_csv('C:/Users/User/anaconda3/Dengue/Database/DengueAndClimateBangladesh - Copy.csv')\n",
    "\n"
   ]
  },
  {
   "cell_type": "markdown",
   "metadata": {},
   "source": [
    "### Split data into features and target\n"
   ]
  },
  {
   "cell_type": "code",
   "execution_count": 3,
   "metadata": {},
   "outputs": [],
   "source": [
    "data = df.drop('DENGUE', axis=1)\n",
    "y = df['DENGUE']\n"
   ]
  },
  {
   "cell_type": "code",
   "execution_count": 4,
   "metadata": {},
   "outputs": [
    {
     "data": {
      "text/html": [
       "<div>\n",
       "<style scoped>\n",
       "    .dataframe tbody tr th:only-of-type {\n",
       "        vertical-align: middle;\n",
       "    }\n",
       "\n",
       "    .dataframe tbody tr th {\n",
       "        vertical-align: top;\n",
       "    }\n",
       "\n",
       "    .dataframe thead th {\n",
       "        text-align: right;\n",
       "    }\n",
       "</style>\n",
       "<table border=\"1\" class=\"dataframe\">\n",
       "  <thead>\n",
       "    <tr style=\"text-align: right;\">\n",
       "      <th></th>\n",
       "      <th>YEAR</th>\n",
       "      <th>MONTH</th>\n",
       "      <th>MIN</th>\n",
       "      <th>MAX</th>\n",
       "      <th>HUMIDITY</th>\n",
       "      <th>RAINFALL</th>\n",
       "    </tr>\n",
       "  </thead>\n",
       "  <tbody>\n",
       "    <tr>\n",
       "      <th>0</th>\n",
       "      <td>2015</td>\n",
       "      <td>1</td>\n",
       "      <td>13.548485</td>\n",
       "      <td>25.300000</td>\n",
       "      <td>68.976452</td>\n",
       "      <td>10.529000</td>\n",
       "    </tr>\n",
       "    <tr>\n",
       "      <th>1</th>\n",
       "      <td>2015</td>\n",
       "      <td>2</td>\n",
       "      <td>17.342424</td>\n",
       "      <td>28.712121</td>\n",
       "      <td>56.465000</td>\n",
       "      <td>16.500000</td>\n",
       "    </tr>\n",
       "    <tr>\n",
       "      <th>2</th>\n",
       "      <td>2015</td>\n",
       "      <td>3</td>\n",
       "      <td>19.669697</td>\n",
       "      <td>31.908824</td>\n",
       "      <td>48.826452</td>\n",
       "      <td>25.823529</td>\n",
       "    </tr>\n",
       "    <tr>\n",
       "      <th>3</th>\n",
       "      <td>2015</td>\n",
       "      <td>4</td>\n",
       "      <td>23.503030</td>\n",
       "      <td>32.485294</td>\n",
       "      <td>78.554333</td>\n",
       "      <td>192.911765</td>\n",
       "    </tr>\n",
       "    <tr>\n",
       "      <th>4</th>\n",
       "      <td>2015</td>\n",
       "      <td>5</td>\n",
       "      <td>25.263636</td>\n",
       "      <td>34.111765</td>\n",
       "      <td>85.996129</td>\n",
       "      <td>171.264706</td>\n",
       "    </tr>\n",
       "    <tr>\n",
       "      <th>...</th>\n",
       "      <td>...</td>\n",
       "      <td>...</td>\n",
       "      <td>...</td>\n",
       "      <td>...</td>\n",
       "      <td>...</td>\n",
       "      <td>...</td>\n",
       "    </tr>\n",
       "    <tr>\n",
       "      <th>103</th>\n",
       "      <td>2023</td>\n",
       "      <td>8</td>\n",
       "      <td>25.726471</td>\n",
       "      <td>31.373529</td>\n",
       "      <td>86.110000</td>\n",
       "      <td>420.364706</td>\n",
       "    </tr>\n",
       "    <tr>\n",
       "      <th>104</th>\n",
       "      <td>2023</td>\n",
       "      <td>9</td>\n",
       "      <td>25.355882</td>\n",
       "      <td>31.541176</td>\n",
       "      <td>85.910000</td>\n",
       "      <td>318.220588</td>\n",
       "    </tr>\n",
       "    <tr>\n",
       "      <th>105</th>\n",
       "      <td>2023</td>\n",
       "      <td>10</td>\n",
       "      <td>23.638235</td>\n",
       "      <td>31.526471</td>\n",
       "      <td>83.200000</td>\n",
       "      <td>160.314706</td>\n",
       "    </tr>\n",
       "    <tr>\n",
       "      <th>106</th>\n",
       "      <td>2023</td>\n",
       "      <td>11</td>\n",
       "      <td>19.176471</td>\n",
       "      <td>29.529412</td>\n",
       "      <td>79.090000</td>\n",
       "      <td>42.429412</td>\n",
       "    </tr>\n",
       "    <tr>\n",
       "      <th>107</th>\n",
       "      <td>2023</td>\n",
       "      <td>12</td>\n",
       "      <td>14.170588</td>\n",
       "      <td>26.432353</td>\n",
       "      <td>77.970000</td>\n",
       "      <td>9.638235</td>\n",
       "    </tr>\n",
       "  </tbody>\n",
       "</table>\n",
       "<p>108 rows × 6 columns</p>\n",
       "</div>"
      ],
      "text/plain": [
       "     YEAR  MONTH        MIN        MAX   HUMIDITY    RAINFALL\n",
       "0    2015      1  13.548485  25.300000  68.976452   10.529000\n",
       "1    2015      2  17.342424  28.712121  56.465000   16.500000\n",
       "2    2015      3  19.669697  31.908824  48.826452   25.823529\n",
       "3    2015      4  23.503030  32.485294  78.554333  192.911765\n",
       "4    2015      5  25.263636  34.111765  85.996129  171.264706\n",
       "..    ...    ...        ...        ...        ...         ...\n",
       "103  2023      8  25.726471  31.373529  86.110000  420.364706\n",
       "104  2023      9  25.355882  31.541176  85.910000  318.220588\n",
       "105  2023     10  23.638235  31.526471  83.200000  160.314706\n",
       "106  2023     11  19.176471  29.529412  79.090000   42.429412\n",
       "107  2023     12  14.170588  26.432353  77.970000    9.638235\n",
       "\n",
       "[108 rows x 6 columns]"
      ]
     },
     "execution_count": 4,
     "metadata": {},
     "output_type": "execute_result"
    }
   ],
   "source": [
    "data"
   ]
  },
  {
   "cell_type": "markdown",
   "metadata": {},
   "source": [
    "### Scaling data using MinMaxScaler (0 to 1)"
   ]
  },
  {
   "cell_type": "code",
   "execution_count": 5,
   "metadata": {},
   "outputs": [
    {
     "name": "stdout",
     "output_type": "stream",
     "text": [
      "(108, 6)\n"
     ]
    }
   ],
   "source": [
    "X_combined = MinMaxScaler().fit_transform(data)\n",
    "print(X_combined.shape)\n"
   ]
  },
  {
   "cell_type": "markdown",
   "metadata": {},
   "source": [
    "### create input-output pairs (sequences) fo LSTM"
   ]
  },
  {
   "cell_type": "code",
   "execution_count": 6,
   "metadata": {},
   "outputs": [],
   "source": [
    "def create_sequences(data, target, sequence_length):\n",
    "    sequences = []\n",
    "    target_values = []\n",
    "    for i in range(len(data) - sequence_length):\n",
    "        seq = data[i:i+sequence_length]\n",
    "        label = target[i+sequence_length]\n",
    "        sequences.append(seq)\n",
    "        target_values.append(label)\n",
    "    return np.array(sequences), np.array(target_values)\n"
   ]
  },
  {
   "cell_type": "markdown",
   "metadata": {},
   "source": [
    "### 10 consecutive time steps as input"
   ]
  },
  {
   "cell_type": "code",
   "execution_count": 7,
   "metadata": {},
   "outputs": [],
   "source": [
    "# Define the sequence length (number of time steps to look back)\n",
    "sequence_length = 1\n"
   ]
  },
  {
   "cell_type": "markdown",
   "metadata": {},
   "source": [
    "### Scaling(range 0 to 1) training data for fit"
   ]
  },
  {
   "cell_type": "code",
   "execution_count": 8,
   "metadata": {},
   "outputs": [
    {
     "data": {
      "text/html": [
       "<style>#sk-container-id-1 {color: black;}#sk-container-id-1 pre{padding: 0;}#sk-container-id-1 div.sk-toggleable {background-color: white;}#sk-container-id-1 label.sk-toggleable__label {cursor: pointer;display: block;width: 100%;margin-bottom: 0;padding: 0.3em;box-sizing: border-box;text-align: center;}#sk-container-id-1 label.sk-toggleable__label-arrow:before {content: \"▸\";float: left;margin-right: 0.25em;color: #696969;}#sk-container-id-1 label.sk-toggleable__label-arrow:hover:before {color: black;}#sk-container-id-1 div.sk-estimator:hover label.sk-toggleable__label-arrow:before {color: black;}#sk-container-id-1 div.sk-toggleable__content {max-height: 0;max-width: 0;overflow: hidden;text-align: left;background-color: #f0f8ff;}#sk-container-id-1 div.sk-toggleable__content pre {margin: 0.2em;color: black;border-radius: 0.25em;background-color: #f0f8ff;}#sk-container-id-1 input.sk-toggleable__control:checked~div.sk-toggleable__content {max-height: 200px;max-width: 100%;overflow: auto;}#sk-container-id-1 input.sk-toggleable__control:checked~label.sk-toggleable__label-arrow:before {content: \"▾\";}#sk-container-id-1 div.sk-estimator input.sk-toggleable__control:checked~label.sk-toggleable__label {background-color: #d4ebff;}#sk-container-id-1 div.sk-label input.sk-toggleable__control:checked~label.sk-toggleable__label {background-color: #d4ebff;}#sk-container-id-1 input.sk-hidden--visually {border: 0;clip: rect(1px 1px 1px 1px);clip: rect(1px, 1px, 1px, 1px);height: 1px;margin: -1px;overflow: hidden;padding: 0;position: absolute;width: 1px;}#sk-container-id-1 div.sk-estimator {font-family: monospace;background-color: #f0f8ff;border: 1px dotted black;border-radius: 0.25em;box-sizing: border-box;margin-bottom: 0.5em;}#sk-container-id-1 div.sk-estimator:hover {background-color: #d4ebff;}#sk-container-id-1 div.sk-parallel-item::after {content: \"\";width: 100%;border-bottom: 1px solid gray;flex-grow: 1;}#sk-container-id-1 div.sk-label:hover label.sk-toggleable__label {background-color: #d4ebff;}#sk-container-id-1 div.sk-serial::before {content: \"\";position: absolute;border-left: 1px solid gray;box-sizing: border-box;top: 0;bottom: 0;left: 50%;z-index: 0;}#sk-container-id-1 div.sk-serial {display: flex;flex-direction: column;align-items: center;background-color: white;padding-right: 0.2em;padding-left: 0.2em;position: relative;}#sk-container-id-1 div.sk-item {position: relative;z-index: 1;}#sk-container-id-1 div.sk-parallel {display: flex;align-items: stretch;justify-content: center;background-color: white;position: relative;}#sk-container-id-1 div.sk-item::before, #sk-container-id-1 div.sk-parallel-item::before {content: \"\";position: absolute;border-left: 1px solid gray;box-sizing: border-box;top: 0;bottom: 0;left: 50%;z-index: -1;}#sk-container-id-1 div.sk-parallel-item {display: flex;flex-direction: column;z-index: 1;position: relative;background-color: white;}#sk-container-id-1 div.sk-parallel-item:first-child::after {align-self: flex-end;width: 50%;}#sk-container-id-1 div.sk-parallel-item:last-child::after {align-self: flex-start;width: 50%;}#sk-container-id-1 div.sk-parallel-item:only-child::after {width: 0;}#sk-container-id-1 div.sk-dashed-wrapped {border: 1px dashed gray;margin: 0 0.4em 0.5em 0.4em;box-sizing: border-box;padding-bottom: 0.4em;background-color: white;}#sk-container-id-1 div.sk-label label {font-family: monospace;font-weight: bold;display: inline-block;line-height: 1.2em;}#sk-container-id-1 div.sk-label-container {text-align: center;}#sk-container-id-1 div.sk-container {/* jupyter's `normalize.less` sets `[hidden] { display: none; }` but bootstrap.min.css set `[hidden] { display: none !important; }` so we also need the `!important` here to be able to override the default hidden behavior on the sphinx rendered scikit-learn.org. See: https://github.com/scikit-learn/scikit-learn/issues/21755 */display: inline-block !important;position: relative;}#sk-container-id-1 div.sk-text-repr-fallback {display: none;}</style><div id=\"sk-container-id-1\" class=\"sk-top-container\"><div class=\"sk-text-repr-fallback\"><pre>MinMaxScaler()</pre><b>In a Jupyter environment, please rerun this cell to show the HTML representation or trust the notebook. <br />On GitHub, the HTML representation is unable to render, please try loading this page with nbviewer.org.</b></div><div class=\"sk-container\" hidden><div class=\"sk-item\"><div class=\"sk-estimator sk-toggleable\"><input class=\"sk-toggleable__control sk-hidden--visually\" id=\"sk-estimator-id-1\" type=\"checkbox\" checked><label for=\"sk-estimator-id-1\" class=\"sk-toggleable__label sk-toggleable__label-arrow\">MinMaxScaler</label><div class=\"sk-toggleable__content\"><pre>MinMaxScaler()</pre></div></div></div></div></div>"
      ],
      "text/plain": [
       "MinMaxScaler()"
      ]
     },
     "execution_count": 8,
     "metadata": {},
     "output_type": "execute_result"
    }
   ],
   "source": [
    "scaler = MinMaxScaler()\n",
    "scaler.fit(X_combined)\n"
   ]
  },
  {
   "cell_type": "markdown",
   "metadata": {},
   "source": [
    "###  Input sequences and target sequnce set with 10 length"
   ]
  },
  {
   "cell_type": "code",
   "execution_count": 9,
   "metadata": {},
   "outputs": [],
   "source": [
    "# Create sequences\n",
    "X_seq, y_seq = create_sequences(np.column_stack((X_combined, y)), y, sequence_length)\n"
   ]
  },
  {
   "cell_type": "markdown",
   "metadata": {},
   "source": [
    "### Split the data into training and testing sets\n"
   ]
  },
  {
   "cell_type": "code",
   "execution_count": 10,
   "metadata": {},
   "outputs": [],
   "source": [
    "# split = int(0.88 * len(X_seq))\n",
    "# x_train, x_test = X_seq[:split, :, :-1], X_seq[split:, :, :-1]\n",
    "# y_train, y_test = y_seq[:split], y_seq[split:]\n",
    "x_train, x_test, y_train, y_test = train_test_split(X_seq, y_seq, test_size=0.2, random_state=42)\n",
    " "
   ]
  },
  {
   "cell_type": "code",
   "execution_count": 11,
   "metadata": {},
   "outputs": [
    {
     "name": "stdout",
     "output_type": "stream",
     "text": [
      "X_combined: (108, 6)\n",
      "y: (108,)\n",
      "X_seq: (107, 1, 7)\n",
      "y_seq: (107,)\n",
      "x_train: (85, 1, 7)\n",
      "y_train: (85,)\n",
      "x_test: (22, 1, 7)\n",
      "y_test: (22,)\n"
     ]
    }
   ],
   "source": [
    "print('X_combined:',X_combined.shape)\n",
    "print('y:',y.shape)\n",
    "print('X_seq:',X_seq.shape)\n",
    "print('y_seq:',y_seq.shape)\n",
    "print('x_train:',x_train.shape)\n",
    "print('y_train:',y_train.shape)\n",
    "print('x_test:',x_test.shape)\n",
    "print('y_test:',y_test.shape)"
   ]
  },
  {
   "cell_type": "markdown",
   "metadata": {},
   "source": [
    "### Build the LSTM model\n"
   ]
  },
  {
   "cell_type": "code",
   "execution_count": 12,
   "metadata": {},
   "outputs": [
    {
     "name": "stdout",
     "output_type": "stream",
     "text": [
      "WARNING:tensorflow:From C:\\Users\\User\\anaconda3\\Lib\\site-packages\\keras\\src\\backend.py:873: The name tf.get_default_graph is deprecated. Please use tf.compat.v1.get_default_graph instead.\n",
      "\n",
      "WARNING:tensorflow:From C:\\Users\\User\\anaconda3\\Lib\\site-packages\\keras\\src\\optimizers\\__init__.py:309: The name tf.train.Optimizer is deprecated. Please use tf.compat.v1.train.Optimizer instead.\n",
      "\n"
     ]
    }
   ],
   "source": [
    "model = Sequential()\n",
    "model.add(LSTM(50, activation='relu', input_shape=(x_train.shape[1], x_train.shape[2])))\n",
    "model.add(Dense(1))\n",
    "model.compile(optimizer='adam', loss='mse')\n",
    "\n"
   ]
  },
  {
   "cell_type": "markdown",
   "metadata": {},
   "source": [
    "#### Define a function to checkpoint all epochs"
   ]
  },
  {
   "cell_type": "code",
   "execution_count": 13,
   "metadata": {},
   "outputs": [],
   "source": [
    "# Define this checkpoint callback methods for draw graph of RMSE of all epoach\n",
    "checkpoint_callback = ModelCheckpoint(\n",
    "    filepath='weights_epoch_{epoch:02d}.h5', \n",
    "    save_weights_only=True,\n",
    "    save_best_only=False,  \n",
    "    monitor='val_loss', \n",
    "    mode='min',\n",
    "    verbose=1\n",
    ")"
   ]
  },
  {
   "cell_type": "markdown",
   "metadata": {},
   "source": [
    "### Train the model with validation\n"
   ]
  },
  {
   "cell_type": "code",
   "execution_count": 14,
   "metadata": {
    "scrolled": true
   },
   "outputs": [
    {
     "name": "stdout",
     "output_type": "stream",
     "text": [
      "Epoch 1/50\n",
      "WARNING:tensorflow:From C:\\Users\\User\\anaconda3\\Lib\\site-packages\\keras\\src\\utils\\tf_utils.py:492: The name tf.ragged.RaggedTensorValue is deprecated. Please use tf.compat.v1.ragged.RaggedTensorValue instead.\n",
      "\n",
      "\n",
      "Epoch 1: saving model to weights_epoch_01.h5\n",
      "3/3 - 2s - loss: 267258576.0000 - val_loss: 97113040.0000 - 2s/epoch - 543ms/step\n",
      "Epoch 2/50\n",
      "\n",
      "Epoch 2: saving model to weights_epoch_02.h5\n",
      "3/3 - 0s - loss: 265296192.0000 - val_loss: 95807248.0000 - 58ms/epoch - 19ms/step\n",
      "Epoch 3/50\n",
      "\n",
      "Epoch 3: saving model to weights_epoch_03.h5\n",
      "3/3 - 0s - loss: 262377792.0000 - val_loss: 91991960.0000 - 56ms/epoch - 19ms/step\n",
      "Epoch 4/50\n",
      "\n",
      "Epoch 4: saving model to weights_epoch_04.h5\n",
      "3/3 - 0s - loss: 259565600.0000 - val_loss: 90993488.0000 - 52ms/epoch - 17ms/step\n",
      "Epoch 5/50\n",
      "\n",
      "Epoch 5: saving model to weights_epoch_05.h5\n",
      "3/3 - 0s - loss: 258580016.0000 - val_loss: 89923488.0000 - 58ms/epoch - 19ms/step\n",
      "Epoch 6/50\n",
      "\n",
      "Epoch 6: saving model to weights_epoch_06.h5\n",
      "3/3 - 0s - loss: 257086208.0000 - val_loss: 88907120.0000 - 47ms/epoch - 16ms/step\n",
      "Epoch 7/50\n",
      "\n",
      "Epoch 7: saving model to weights_epoch_07.h5\n",
      "3/3 - 0s - loss: 256304384.0000 - val_loss: 87810504.0000 - 46ms/epoch - 15ms/step\n",
      "Epoch 8/50\n",
      "\n",
      "Epoch 8: saving model to weights_epoch_08.h5\n",
      "3/3 - 0s - loss: 249422448.0000 - val_loss: 82067872.0000 - 42ms/epoch - 14ms/step\n",
      "Epoch 9/50\n",
      "\n",
      "Epoch 9: saving model to weights_epoch_09.h5\n",
      "3/3 - 0s - loss: 247847152.0000 - val_loss: 80902144.0000 - 42ms/epoch - 14ms/step\n",
      "Epoch 10/50\n",
      "\n",
      "Epoch 10: saving model to weights_epoch_10.h5\n",
      "3/3 - 0s - loss: 246635552.0000 - val_loss: 79674696.0000 - 43ms/epoch - 14ms/step\n",
      "Epoch 11/50\n",
      "\n",
      "Epoch 11: saving model to weights_epoch_11.h5\n",
      "3/3 - 0s - loss: 245335264.0000 - val_loss: 75235504.0000 - 60ms/epoch - 20ms/step\n",
      "Epoch 12/50\n",
      "\n",
      "Epoch 12: saving model to weights_epoch_12.h5\n",
      "3/3 - 0s - loss: 239389632.0000 - val_loss: 73900480.0000 - 62ms/epoch - 21ms/step\n",
      "Epoch 13/50\n",
      "\n",
      "Epoch 13: saving model to weights_epoch_13.h5\n",
      "3/3 - 0s - loss: 237970272.0000 - val_loss: 72388488.0000 - 56ms/epoch - 19ms/step\n",
      "Epoch 14/50\n",
      "\n",
      "Epoch 14: saving model to weights_epoch_14.h5\n",
      "3/3 - 0s - loss: 235980928.0000 - val_loss: 69505688.0000 - 48ms/epoch - 16ms/step\n",
      "Epoch 15/50\n",
      "\n",
      "Epoch 15: saving model to weights_epoch_15.h5\n",
      "3/3 - 0s - loss: 224384800.0000 - val_loss: 60316060.0000 - 42ms/epoch - 14ms/step\n",
      "Epoch 16/50\n",
      "\n",
      "Epoch 16: saving model to weights_epoch_16.h5\n",
      "3/3 - 0s - loss: 220484144.0000 - val_loss: 58479132.0000 - 49ms/epoch - 16ms/step\n",
      "Epoch 17/50\n",
      "\n",
      "Epoch 17: saving model to weights_epoch_17.h5\n",
      "3/3 - 0s - loss: 212538768.0000 - val_loss: 50296464.0000 - 48ms/epoch - 16ms/step\n",
      "Epoch 18/50\n",
      "\n",
      "Epoch 18: saving model to weights_epoch_18.h5\n",
      "3/3 - 0s - loss: 207164736.0000 - val_loss: 35408948.0000 - 44ms/epoch - 15ms/step\n",
      "Epoch 19/50\n",
      "\n",
      "Epoch 19: saving model to weights_epoch_19.h5\n",
      "3/3 - 0s - loss: 181889648.0000 - val_loss: 28415872.0000 - 43ms/epoch - 14ms/step\n",
      "Epoch 20/50\n",
      "\n",
      "Epoch 20: saving model to weights_epoch_20.h5\n",
      "3/3 - 0s - loss: 172547504.0000 - val_loss: 26644530.0000 - 41ms/epoch - 14ms/step\n",
      "Epoch 21/50\n",
      "\n",
      "Epoch 21: saving model to weights_epoch_21.h5\n",
      "3/3 - 0s - loss: 168688368.0000 - val_loss: 23723664.0000 - 44ms/epoch - 15ms/step\n",
      "Epoch 22/50\n",
      "\n",
      "Epoch 22: saving model to weights_epoch_22.h5\n",
      "3/3 - 0s - loss: 162479696.0000 - val_loss: 22290716.0000 - 43ms/epoch - 14ms/step\n",
      "Epoch 23/50\n",
      "\n",
      "Epoch 23: saving model to weights_epoch_23.h5\n",
      "3/3 - 0s - loss: 160481200.0000 - val_loss: 20776236.0000 - 44ms/epoch - 15ms/step\n",
      "Epoch 24/50\n",
      "\n",
      "Epoch 24: saving model to weights_epoch_24.h5\n",
      "3/3 - 0s - loss: 156667904.0000 - val_loss: 19404086.0000 - 59ms/epoch - 20ms/step\n",
      "Epoch 25/50\n",
      "\n",
      "Epoch 25: saving model to weights_epoch_25.h5\n",
      "3/3 - 0s - loss: 153555264.0000 - val_loss: 18087222.0000 - 63ms/epoch - 21ms/step\n",
      "Epoch 26/50\n",
      "\n",
      "Epoch 26: saving model to weights_epoch_26.h5\n",
      "3/3 - 0s - loss: 150116576.0000 - val_loss: 16887458.0000 - 54ms/epoch - 18ms/step\n",
      "Epoch 27/50\n",
      "\n",
      "Epoch 27: saving model to weights_epoch_27.h5\n",
      "3/3 - 0s - loss: 147082256.0000 - val_loss: 15758721.0000 - 60ms/epoch - 20ms/step\n",
      "Epoch 28/50\n",
      "\n",
      "Epoch 28: saving model to weights_epoch_28.h5\n",
      "3/3 - 0s - loss: 143942384.0000 - val_loss: 12433213.0000 - 64ms/epoch - 21ms/step\n",
      "Epoch 29/50\n",
      "\n",
      "Epoch 29: saving model to weights_epoch_29.h5\n",
      "3/3 - 0s - loss: 132770320.0000 - val_loss: 11733879.0000 - 59ms/epoch - 20ms/step\n",
      "Epoch 30/50\n",
      "\n",
      "Epoch 30: saving model to weights_epoch_30.h5\n",
      "3/3 - 0s - loss: 128754280.0000 - val_loss: 11207619.0000 - 50ms/epoch - 17ms/step\n",
      "Epoch 31/50\n",
      "\n",
      "Epoch 31: saving model to weights_epoch_31.h5\n",
      "3/3 - 0s - loss: 125784664.0000 - val_loss: 10806824.0000 - 52ms/epoch - 17ms/step\n",
      "Epoch 32/50\n",
      "\n",
      "Epoch 32: saving model to weights_epoch_32.h5\n",
      "3/3 - 0s - loss: 122381448.0000 - val_loss: 11209302.0000 - 43ms/epoch - 14ms/step\n",
      "Epoch 33/50\n",
      "\n",
      "Epoch 33: saving model to weights_epoch_33.h5\n",
      "3/3 - 0s - loss: 107613632.0000 - val_loss: 11896887.0000 - 53ms/epoch - 18ms/step\n",
      "Epoch 34/50\n",
      "\n",
      "Epoch 34: saving model to weights_epoch_34.h5\n",
      "3/3 - 0s - loss: 104286872.0000 - val_loss: 12864908.0000 - 42ms/epoch - 14ms/step\n",
      "Epoch 35/50\n",
      "\n",
      "Epoch 35: saving model to weights_epoch_35.h5\n",
      "3/3 - 0s - loss: 101291872.0000 - val_loss: 14108858.0000 - 42ms/epoch - 14ms/step\n",
      "Epoch 36/50\n",
      "\n",
      "Epoch 36: saving model to weights_epoch_36.h5\n",
      "3/3 - 0s - loss: 97946120.0000 - val_loss: 15575363.0000 - 42ms/epoch - 14ms/step\n",
      "Epoch 37/50\n",
      "\n",
      "Epoch 37: saving model to weights_epoch_37.h5\n",
      "3/3 - 0s - loss: 94672280.0000 - val_loss: 17207794.0000 - 43ms/epoch - 14ms/step\n",
      "Epoch 38/50\n",
      "\n",
      "Epoch 38: saving model to weights_epoch_38.h5\n",
      "3/3 - 0s - loss: 91751736.0000 - val_loss: 29936258.0000 - 43ms/epoch - 14ms/step\n",
      "Epoch 39/50\n",
      "\n",
      "Epoch 39: saving model to weights_epoch_39.h5\n",
      "3/3 - 0s - loss: 81587696.0000 - val_loss: 50881724.0000 - 45ms/epoch - 15ms/step\n",
      "Epoch 40/50\n",
      "\n",
      "Epoch 40: saving model to weights_epoch_40.h5\n",
      "3/3 - 0s - loss: 71109544.0000 - val_loss: 54795172.0000 - 43ms/epoch - 14ms/step\n",
      "Epoch 41/50\n",
      "\n",
      "Epoch 41: saving model to weights_epoch_41.h5\n",
      "3/3 - 0s - loss: 70419336.0000 - val_loss: 59392444.0000 - 42ms/epoch - 14ms/step\n",
      "Epoch 42/50\n",
      "\n",
      "Epoch 42: saving model to weights_epoch_42.h5\n",
      "3/3 - 0s - loss: 69810864.0000 - val_loss: 63868440.0000 - 44ms/epoch - 15ms/step\n",
      "Epoch 43/50\n",
      "\n",
      "Epoch 43: saving model to weights_epoch_43.h5\n",
      "3/3 - 0s - loss: 68618144.0000 - val_loss: 67573320.0000 - 42ms/epoch - 14ms/step\n",
      "Epoch 44/50\n",
      "\n",
      "Epoch 44: saving model to weights_epoch_44.h5\n",
      "3/3 - 0s - loss: 67664120.0000 - val_loss: 70360480.0000 - 45ms/epoch - 15ms/step\n",
      "Epoch 45/50\n",
      "\n",
      "Epoch 45: saving model to weights_epoch_45.h5\n",
      "3/3 - 0s - loss: 67709976.0000 - val_loss: 73962504.0000 - 45ms/epoch - 15ms/step\n",
      "Epoch 46/50\n",
      "\n",
      "Epoch 46: saving model to weights_epoch_46.h5\n",
      "3/3 - 0s - loss: 67060912.0000 - val_loss: 77044584.0000 - 46ms/epoch - 15ms/step\n",
      "Epoch 47/50\n",
      "\n",
      "Epoch 47: saving model to weights_epoch_47.h5\n",
      "3/3 - 0s - loss: 66601588.0000 - val_loss: 79612392.0000 - 44ms/epoch - 15ms/step\n",
      "Epoch 48/50\n",
      "\n",
      "Epoch 48: saving model to weights_epoch_48.h5\n",
      "3/3 - 0s - loss: 66458732.0000 - val_loss: 82431000.0000 - 48ms/epoch - 16ms/step\n",
      "Epoch 49/50\n",
      "\n",
      "Epoch 49: saving model to weights_epoch_49.h5\n",
      "3/3 - 0s - loss: 66264680.0000 - val_loss: 85123592.0000 - 45ms/epoch - 15ms/step\n",
      "Epoch 50/50\n",
      "\n",
      "Epoch 50: saving model to weights_epoch_50.h5\n",
      "3/3 - 0s - loss: 66040024.0000 - val_loss: 87316936.0000 - 43ms/epoch - 14ms/step\n"
     ]
    }
   ],
   "source": [
    "pochs = 50\n",
    "history = model.fit(x_train, y_train, epochs=pochs, batch_size=30, \n",
    "                    validation_data=(x_test, y_test), \n",
    "                    callbacks=[checkpoint_callback],  \n",
    "                    verbose=2)\n"
   ]
  },
  {
   "cell_type": "markdown",
   "metadata": {},
   "source": [
    "#### store all  RMSE value of each Epoch "
   ]
  },
  {
   "cell_type": "code",
   "execution_count": 15,
   "metadata": {},
   "outputs": [
    {
     "name": "stdout",
     "output_type": "stream",
     "text": [
      "1/1 [==============================] - 0s 186ms/step\n"
     ]
    }
   ],
   "source": [
    "predictions = model.predict(x_test)\n",
    "# predictions = abs(predictions)\n"
   ]
  },
  {
   "cell_type": "code",
   "execution_count": 16,
   "metadata": {
    "scrolled": true
   },
   "outputs": [
    {
     "name": "stdout",
     "output_type": "stream",
     "text": [
      "1/1 [==============================] - 0s 22ms/step\n",
      "1/1 [==============================] - 0s 7ms/step\n",
      "1/1 [==============================] - 0s 21ms/step\n",
      "1/1 [==============================] - 0s 21ms/step\n",
      "1/1 [==============================] - 0s 28ms/step\n",
      "1/1 [==============================] - 0s 30ms/step\n",
      "1/1 [==============================] - 0s 27ms/step\n",
      "1/1 [==============================] - 0s 24ms/step\n",
      "1/1 [==============================] - 0s 34ms/step\n",
      "1/1 [==============================] - 0s 26ms/step\n",
      "1/1 [==============================] - 0s 22ms/step\n",
      "1/1 [==============================] - 0s 25ms/step\n",
      "1/1 [==============================] - 0s 23ms/step\n",
      "1/1 [==============================] - 0s 21ms/step\n",
      "1/1 [==============================] - 0s 24ms/step\n",
      "1/1 [==============================] - 0s 23ms/step\n",
      "1/1 [==============================] - 0s 23ms/step\n",
      "1/1 [==============================] - 0s 33ms/step\n",
      "1/1 [==============================] - 0s 39ms/step\n",
      "1/1 [==============================] - 0s 22ms/step\n",
      "1/1 [==============================] - 0s 22ms/step\n",
      "1/1 [==============================] - 0s 23ms/step\n",
      "1/1 [==============================] - 0s 24ms/step\n",
      "1/1 [==============================] - 0s 23ms/step\n",
      "1/1 [==============================] - 0s 23ms/step\n",
      "1/1 [==============================] - 0s 24ms/step\n",
      "1/1 [==============================] - 0s 23ms/step\n",
      "1/1 [==============================] - 0s 23ms/step\n",
      "1/1 [==============================] - 0s 22ms/step\n",
      "1/1 [==============================] - 0s 24ms/step\n",
      "1/1 [==============================] - 0s 22ms/step\n",
      "1/1 [==============================] - 0s 22ms/step\n",
      "1/1 [==============================] - 0s 27ms/step\n",
      "1/1 [==============================] - 0s 27ms/step\n",
      "1/1 [==============================] - 0s 22ms/step\n",
      "1/1 [==============================] - 0s 22ms/step\n",
      "1/1 [==============================] - 0s 22ms/step\n",
      "1/1 [==============================] - 0s 24ms/step\n",
      "1/1 [==============================] - 0s 22ms/step\n",
      "1/1 [==============================] - 0s 22ms/step\n",
      "1/1 [==============================] - 0s 22ms/step\n",
      "1/1 [==============================] - 0s 23ms/step\n",
      "1/1 [==============================] - 0s 21ms/step\n",
      "1/1 [==============================] - 0s 19ms/step\n",
      "1/1 [==============================] - 0s 28ms/step\n",
      "1/1 [==============================] - 0s 28ms/step\n",
      "1/1 [==============================] - 0s 33ms/step\n",
      "1/1 [==============================] - 0s 22ms/step\n",
      "1/1 [==============================] - 0s 22ms/step\n",
      "1/1 [==============================] - 0s 22ms/step\n"
     ]
    }
   ],
   "source": [
    "# store all RMSE values for each epoch\n",
    "rmse_values = []\n",
    "\n",
    "for epoch in range(1, pochs+1):\n",
    "    \n",
    "    model.load_weights(f\"weights_epoch_{epoch:02d}.h5\")\n",
    "\n",
    "    # Predictions on the test set\n",
    "    predictions = model.predict(x_test)\n",
    "#     predictions = abs(predictions)\n",
    "    # Calculate RMSE\n",
    "    mse = mean_squared_error(y_test, predictions)\n",
    "    rmse = np.sqrt(mse)\n",
    "\n",
    "    # Append RMSE to the list\n",
    "    rmse_values.append(rmse)\n",
    "\n"
   ]
  },
  {
   "cell_type": "markdown",
   "metadata": {},
   "source": [
    "#### Draw RMSE vs Epochs"
   ]
  },
  {
   "cell_type": "code",
   "execution_count": 17,
   "metadata": {},
   "outputs": [
    {
     "data": {
      "image/png": "[encoded data removed]",
      "text/plain": [
       "<Figure size 640x480 with 1 Axes>"
      ]
     },
     "metadata": {},
     "output_type": "display_data"
    }
   ],
   "source": [
    "# Plot RMSE values\n",
    "plt.plot(range(1, pochs+1), rmse_values, marker='o')\n",
    "plt.xlabel('Epochs')\n",
    "plt.ylabel('Root Mean Squared Error (RMSE)')\n",
    "plt.title('RMSE vs Epochs')\n",
    "plt.show()"
   ]
  },
  {
   "cell_type": "markdown",
   "metadata": {},
   "source": [
    "### Predictions on the test set\n"
   ]
  },
  {
   "cell_type": "code",
   "execution_count": 18,
   "metadata": {},
   "outputs": [
    {
     "name": "stdout",
     "output_type": "stream",
     "text": [
      "1/1 [==============================] - 0s 22ms/step\n"
     ]
    }
   ],
   "source": [
    "predictions = model.predict(x_test)\n"
   ]
  },
  {
   "cell_type": "code",
   "execution_count": 19,
   "metadata": {},
   "outputs": [
    {
     "data": {
      "text/plain": [
       "array([[3.5465191e+01],\n",
       "       [2.5190759e+02],\n",
       "       [8.7151842e+00],\n",
       "       [1.2639398e+02],\n",
       "       [5.0346187e+03],\n",
       "       [2.5434534e+03],\n",
       "       [2.7033435e+02],\n",
       "       [2.3111770e+03],\n",
       "       [1.6866545e+04],\n",
       "       [6.0052689e+01],\n",
       "       [2.1973884e+03],\n",
       "       [2.7353687e+02],\n",
       "       [7.2118711e-01],\n",
       "       [7.3873867e+03],\n",
       "       [8.9214026e+02],\n",
       "       [6.4997535e+04],\n",
       "       [5.0484371e+04],\n",
       "       [7.9578546e+02],\n",
       "       [1.4432540e+03],\n",
       "       [9.1139673e+02],\n",
       "       [8.7169695e+00],\n",
       "       [1.8491983e+01]], dtype=float32)"
      ]
     },
     "execution_count": 19,
     "metadata": {},
     "output_type": "execute_result"
    }
   ],
   "source": [
    "#print the prediction information\n",
    "predictions"
   ]
  },
  {
   "cell_type": "code",
   "execution_count": null,
   "metadata": {},
   "outputs": [],
   "source": []
  },
  {
   "cell_type": "code",
   "execution_count": 20,
   "metadata": {},
   "outputs": [
    {
     "name": "stdout",
     "output_type": "stream",
     "text": [
      "(85, 1, 7)\n",
      "(85,)\n",
      "(22, 1, 7)\n",
      "(22,)\n"
     ]
    }
   ],
   "source": [
    "print(x_train.shape)\n",
    "print(y_train.shape)\n",
    "print(x_test.shape)\n",
    "print(y_test.shape)\n"
   ]
  },
  {
   "cell_type": "code",
   "execution_count": 21,
   "metadata": {},
   "outputs": [
    {
     "name": "stdout",
     "output_type": "stream",
     "text": [
      "(22, 1)\n",
      "(22,)\n"
     ]
    }
   ],
   "source": [
    "print(predictions.shape)\n",
    "print(y_test.shape)\n",
    "\n",
    "\n",
    " "
   ]
  },
  {
   "cell_type": "code",
   "execution_count": 22,
   "metadata": {},
   "outputs": [
    {
     "name": "stdout",
     "output_type": "stream",
     "text": [
      "[  825    75    28  1036   431  3567   346  1192  5024    13  7698    38\n",
      "     0  7841  1451 40716 16856  2286  2647  1796     3     7]\n",
      "[[3.5465191e+01]\n",
      " [2.5190759e+02]\n",
      " [8.7151842e+00]\n",
      " [1.2639398e+02]\n",
      " [5.0346187e+03]\n",
      " [2.5434534e+03]\n",
      " [2.7033435e+02]\n",
      " [2.3111770e+03]\n",
      " [1.6866545e+04]\n",
      " [6.0052689e+01]\n",
      " [2.1973884e+03]\n",
      " [2.7353687e+02]\n",
      " [7.2118711e-01]\n",
      " [7.3873867e+03]\n",
      " [8.9214026e+02]\n",
      " [6.4997535e+04]\n",
      " [5.0484371e+04]\n",
      " [7.9578546e+02]\n",
      " [1.4432540e+03]\n",
      " [9.1139673e+02]\n",
      " [8.7169695e+00]\n",
      " [1.8491983e+01]]\n",
      "<class 'numpy.ndarray'>\n",
      "<class 'numpy.ndarray'>\n"
     ]
    }
   ],
   "source": [
    "print(y_test)\n",
    "print(predictions)\n",
    "\n",
    "print(type(y_test))\n",
    "print(type(predictions))"
   ]
  },
  {
   "cell_type": "markdown",
   "metadata": {},
   "source": [
    "## Performance mesure"
   ]
  },
  {
   "cell_type": "markdown",
   "metadata": {},
   "source": [
    "### Designed a bar graph of actual dengue case VS predictive dengue case"
   ]
  },
  {
   "cell_type": "code",
   "execution_count": 23,
   "metadata": {
    "scrolled": false
   },
   "outputs": [
    {
     "data": {
      "image/png": "[encoded data removed]",
      "text/plain": [
       "<Figure size 1200x600 with 1 Axes>"
      ]
     },
     "metadata": {},
     "output_type": "display_data"
    }
   ],
   "source": [
    "\n",
    "# Plot the bar graph\n",
    "plt.figure(figsize=(12, 6))\n",
    "bar_width = 0.35\n",
    "\n",
    "plt.bar(np.arange(len(y_test)), y_test, width=bar_width, label='Actual')\n",
    "plt.bar(np.arange(len(predictions)) + bar_width, predictions.flatten(), width=bar_width, label='Predictions')\n",
    "\n",
    "plt.xlabel('Data Points')\n",
    "plt.ylabel('Dengue Cases')\n",
    "plt.legend()\n",
    "plt.title('Dengue Cases: Actual vs Predictions')\n",
    "plt.show()\n"
   ]
  },
  {
   "cell_type": "markdown",
   "metadata": {},
   "source": [
    "###  Designed a graph of training loss and validation loss in times of dataset passing in the model.\n",
    " "
   ]
  },
  {
   "cell_type": "code",
   "execution_count": 24,
   "metadata": {
    "scrolled": true
   },
   "outputs": [
    {
     "data": {
      "image/png": "[encoded data removed]",
      "text/plain": [
       "<Figure size 1200x300 with 1 Axes>"
      ]
     },
     "metadata": {},
     "output_type": "display_data"
    }
   ],
   "source": [
    "# Plot training and validation loss\n",
    "plt.figure(figsize=(12, 3))\n",
    "plt.plot(history.history['loss'], label='Training Loss')\n",
    "plt.plot(history.history['val_loss'], label='Validation Loss')\n",
    "plt.xlabel('Epochs')\n",
    "plt.ylabel('Mean Squared Error Loss')\n",
    "plt.legend()\n",
    "plt.show()\n",
    "\n",
    " \n"
   ]
  },
  {
   "cell_type": "markdown",
   "metadata": {},
   "source": [
    "### R-squared (R²) ,0 to 1;  higher values indicating a better fit\n"
   ]
  },
  {
   "cell_type": "code",
   "execution_count": 25,
   "metadata": {},
   "outputs": [
    {
     "name": "stdout",
     "output_type": "stream",
     "text": [
      "1/1 [==============================] - 0s 27ms/step\n",
      "[[3.5465191e+01]\n",
      " [2.5190759e+02]\n",
      " [8.7151842e+00]\n",
      " [1.2639398e+02]\n",
      " [5.0346187e+03]\n",
      " [2.5434534e+03]\n",
      " [2.7033435e+02]\n",
      " [2.3111770e+03]\n",
      " [1.6866545e+04]\n",
      " [6.0052689e+01]\n",
      " [2.1973884e+03]\n",
      " [2.7353687e+02]\n",
      " [7.2118711e-01]\n",
      " [7.3873867e+03]\n",
      " [8.9214026e+02]\n",
      " [6.4997535e+04]\n",
      " [5.0484371e+04]\n",
      " [7.9578546e+02]\n",
      " [1.4432540e+03]\n",
      " [9.1139673e+02]\n",
      " [8.7169695e+00]\n",
      " [1.8491983e+01]]\n",
      "R-squared: -0.11613323234970596\n"
     ]
    }
   ],
   "source": [
    "predictions = model.predict(x_test)\n",
    "print(predictions)\n",
    "# predictions = abs(predictions)\n",
    "\n",
    "# Compute R-squared\n",
    "r2 = r2_score(y_test, predictions)\n",
    "\n",
    "print(f'R-squared: {r2}')"
   ]
  },
  {
   "cell_type": "markdown",
   "metadata": {},
   "source": [
    "##  RMSE VS Baseline of RMSE\n"
   ]
  },
  {
   "cell_type": "code",
   "execution_count": 26,
   "metadata": {},
   "outputs": [
    {
     "name": "stdout",
     "output_type": "stream",
     "text": [
      "Mean Squared Error (RMSE): 87316943.36266005\n",
      "Root Mean Squared Error (RMSE) 9344.353555097327\n",
      "Mean Baseline RMSE: 8844.865690948003\n"
     ]
    }
   ],
   "source": [
    "# Calculate Mean Squared Error\n",
    "mse = mean_squared_error(y_test, predictions)\n",
    "\n",
    "# Calculate Root Mean Squared Error\n",
    "rmse = np.sqrt(mse)\n",
    "mean_baseline_predictions = np.full_like(y_test, np.mean(y_test))\n",
    "\n",
    "# Calculate RMSE Mean Baseline\n",
    "rmse_mean_baseline = np.sqrt(mean_squared_error(y_test, mean_baseline_predictions))\n",
    "\n",
    "print('Mean Squared Error (RMSE):',mse)\n",
    "print('Root Mean Squared Error (RMSE)',rmse)\n",
    "print(f'Mean Baseline RMSE: {rmse_mean_baseline}')"
   ]
  },
  {
   "cell_type": "code",
   "execution_count": 27,
   "metadata": {
    "scrolled": true
   },
   "outputs": [
    {
     "data": {
      "image/png": "[encoded data removed]",
      "text/plain": [
       "<Figure size 300x300 with 1 Axes>"
      ]
     },
     "metadata": {},
     "output_type": "display_data"
    }
   ],
   "source": [
    "# bar difference more then better model\n",
    "plt.figure(figsize=(3, 3))\n",
    "plt.bar(['RMSE', 'Mean Baseline'], [rmse, rmse_mean_baseline], color=['blue', 'orange'], width=0.5)\n",
    "plt.xlabel('Comparison')\n",
    "plt.ylabel('Root Mean Squared Error (RMSE)')\n",
    "plt.title('Comparison of Model RMSE vs Mean Baseline RMSE')\n",
    "plt.show()"
   ]
  },
  {
   "cell_type": "markdown",
   "metadata": {},
   "source": [
    "### dengue predict by other moedels"
   ]
  },
  {
   "cell_type": "code",
   "execution_count": 28,
   "metadata": {
    "scrolled": true
   },
   "outputs": [
    {
     "name": "stdout",
     "output_type": "stream",
     "text": [
      "(108, 6)\n",
      "(108,)\n",
      "(86, 6)\n",
      "(22, 6)\n",
      "(86,)\n",
      "(22,)\n"
     ]
    }
   ],
   "source": [
    "print(data.shape)\n",
    "print(y.shape)\n",
    "\n",
    "train_x, test_x, train_y, test_y = train_test_split(data, y, test_size=0.2, random_state=42)\n",
    "print(train_x.shape)\n",
    "print(test_x.shape)\n",
    "print(train_y.shape)\n",
    "print(test_y.shape)\n"
   ]
  },
  {
   "cell_type": "markdown",
   "metadata": {},
   "source": [
    "### Normalization"
   ]
  },
  {
   "cell_type": "code",
   "execution_count": 29,
   "metadata": {},
   "outputs": [],
   "source": [
    "min_max_scaler = MinMaxScaler()\n",
    "train_x = min_max_scaler.fit_transform(train_x)\n",
    "test_x = min_max_scaler.transform(test_x)\n"
   ]
  },
  {
   "cell_type": "markdown",
   "metadata": {},
   "source": [
    "### Standardization"
   ]
  },
  {
   "cell_type": "code",
   "execution_count": 30,
   "metadata": {},
   "outputs": [],
   "source": [
    "scaler = StandardScaler()\n",
    "train_x = scaler.fit_transform(train_x)\n",
    "test_x = scaler.transform(test_x)"
   ]
  },
  {
   "cell_type": "markdown",
   "metadata": {},
   "source": [
    "#### Models build"
   ]
  },
  {
   "cell_type": "code",
   "execution_count": 31,
   "metadata": {
    "scrolled": false
   },
   "outputs": [
    {
     "name": "stdout",
     "output_type": "stream",
     "text": [
      "[ 295  145   38  431    9  737   28  512 3567  126 1571  737   38 3521\n",
      "   28 8143 1796   23 3567  267   38   92]\n",
      "[ 2286   522    38   431    20  7247   346  8143  9288   126  2286  7247\n",
      "    92  3521    28  8143 52636   163 17583   346    38   199]\n",
      "[  908.01259912   715.59276499   333.50502911  2610.6418049\n",
      "   396.8905062   7203.06272012  1908.96600212  1438.79095039\n",
      "  9247.02555288   363.23152855  8084.2211245   7497.93948272\n",
      "  -282.22708769  7983.14233196  -520.22193472  8047.25182964\n",
      "  8202.84647342  -402.42915668 17435.30851467  -410.20354648\n",
      "  -302.09393219  -237.50705606]\n"
     ]
    }
   ],
   "source": [
    "# KNN model\n",
    "model_k = KNeighborsClassifier(n_neighbors=3)\n",
    "model_k.fit(train_x, train_y)\n",
    "predictions_k = model_k.predict(test_x)\n",
    "print(predictions_k)\n",
    "\n",
    "# SVM model\n",
    "model_s = SVC(kernel='linear', C=1.0)\n",
    "model_s.fit(train_x, train_y)\n",
    "predictions_s = model_s.predict(test_x)\n",
    "print(predictions_s)\n",
    "\n",
    "# Gradient Boosting Regressor model\n",
    "model_g = GradientBoostingRegressor(n_estimators=100, learning_rate=0.1, max_depth=3, random_state=42)\n",
    "model_g.fit(train_x, train_y)\n",
    "predictions_g = model_g.predict(test_x)\n",
    "print(predictions_g)\n",
    "\n",
    "\n"
   ]
  },
  {
   "cell_type": "code",
   "execution_count": 32,
   "metadata": {},
   "outputs": [
    {
     "data": {
      "image/png": "[encoded data removed]",
      "text/plain": [
       "<Figure size 1200x500 with 1 Axes>"
      ]
     },
     "metadata": {},
     "output_type": "display_data"
    }
   ],
   "source": [
    "import matplotlib.pyplot as plt\n",
    "\n",
    "# Vertical bar graph\n",
    "plt.figure(figsize=(12, 5))\n",
    "bar_width = 0.2\n",
    "\n",
    "indices = np.arange(len(test_y))\n",
    "\n",
    "plt.bar(indices, test_y, width=bar_width, label='Actual')\n",
    "plt.bar(indices + bar_width, predictions_k, width=bar_width, label='KNN')\n",
    "plt.bar(indices + 2 * bar_width, predictions_s, width=bar_width, label='SVM')\n",
    "plt.bar(indices + 3 * bar_width, predictions_g, width=bar_width, label='Gradient Boosting Regressor')\n",
    "\n",
    "plt.ylabel('Dengue Cases')\n",
    "plt.xticks(indices + 1.5 * bar_width, indices + 1)  \n",
    "plt.legend()\n",
    "plt.title('Dengue Cases: Actual vs Predictions (KNN, SVM, Gradient Boosting Regressor)')\n",
    "plt.show()\n"
   ]
  },
  {
   "cell_type": "code",
   "execution_count": 33,
   "metadata": {
    "scrolled": false
   },
   "outputs": [
    {
     "name": "stdout",
     "output_type": "stream",
     "text": [
      "LSTM(RMSE): 9344.353555097327\n",
      "Gradient Boosting Regressor(RMSE): 5872.951717395925\n",
      "SVM(RMSE): 9825.051316081579\n",
      "KNN(RMSE): 9366.530385075652\n"
     ]
    },
    {
     "data": {
      "image/png": "[encoded data removed]",
      "text/plain": [
       "<Figure size 640x480 with 1 Axes>"
      ]
     },
     "metadata": {},
     "output_type": "display_data"
    }
   ],
   "source": [
    "rmse_lstm = rmse\n",
    "rmse_gb = np.sqrt(mean_squared_error(test_y, predictions_g))\n",
    "rmse_svm = np.sqrt(mean_squared_error(test_y, predictions_s))\n",
    "rmse_knn = np.sqrt(mean_squared_error(test_y, predictions_k))\n",
    "\n",
    "print(\"LSTM(RMSE):\", rmse_lstm)\n",
    "print(\"Gradient Boosting Regressor(RMSE):\", rmse_gb)\n",
    "print(\"SVM(RMSE):\", rmse_svm)\n",
    "print(\"KNN(RMSE):\", rmse_knn)\n",
    "\n",
    "models = ['LSTM', 'Gradient Boosting', 'SVM', 'KNN']\n",
    "rmse_values = [rmse_lstm, rmse_gb, rmse_svm, rmse_knn]\n",
    "\n",
    "plt.bar(models, rmse_values, color=['blue', 'orange', 'green', 'red'])\n",
    "plt.xlabel('Models')\n",
    "plt.ylabel('Root Mean Squared Error (RMSE)')\n",
    "plt.title('Comparison of RMSE for Different Models')\n",
    "plt.show()\n"
   ]
  },
  {
   "cell_type": "code",
   "execution_count": 34,
   "metadata": {},
   "outputs": [
    {
     "data": {
      "text/plain": [
       "-0.11613323234970596"
      ]
     },
     "execution_count": 34,
     "metadata": {},
     "output_type": "execute_result"
    }
   ],
   "source": [
    "r2\n"
   ]
  },
  {
   "cell_type": "markdown",
   "metadata": {},
   "source": [
    "## for-2024\n"
   ]
  },
  {
   "cell_type": "code",
   "execution_count": 35,
   "metadata": {},
   "outputs": [
    {
     "name": "stdout",
     "output_type": "stream",
     "text": [
      "data :\n",
      "     YEAR  MONTH        MIN        MAX   HUMIDITY    RAINFALL\n",
      "0   2024      1  12.373042  25.465648  77.909410   11.329192\n",
      "1   2024      2  15.755441  28.789316  70.893623   16.401124\n",
      "2   2024      3  20.419033  32.091233  63.376666   15.936214\n",
      "3   2024      4  22.938675  33.180723  75.901013   83.099795\n",
      "4   2024      5  24.184848  33.317984  82.372175  286.190118\n",
      "5   2024      6  25.435841  33.499008  88.973813  455.643578\n",
      "6   2024      7  25.640164  32.872642  87.934536  371.494734\n",
      "7   2024      8  25.804217  32.559153  87.337996  341.039926\n",
      "8   2024      9  25.466006  32.715513  88.343738  322.217110\n",
      "9   2024     10  25.079546  32.818513  85.698031  206.730428\n",
      "10  2024     11  18.716239  29.832275  80.305446    7.576910\n",
      "11  2024     12  14.365490  26.396771  76.047590   10.048108\n",
      "x_test: (11, 1, 7)\n",
      "1/1 [==============================] - 0s 28ms/step\n",
      "predictions: [[ 8.080887 ]\n",
      " [11.015572 ]\n",
      " [15.111945 ]\n",
      " [18.445017 ]\n",
      " [20.79346  ]\n",
      " [23.084599 ]\n",
      " [22.874207 ]\n",
      " [22.92162  ]\n",
      " [22.73573  ]\n",
      " [21.919348 ]\n",
      " [14.8868065]]\n",
      "x_test: [[[0.00000000e+00 0.00000000e+00 0.00000000e+00 0.00000000e+00\n",
      "   5.67748585e-01 8.37438325e-03 1.23730420e+01]]\n",
      "\n",
      " [[0.00000000e+00 9.09090909e-02 2.51831951e-01 4.13733232e-01\n",
      "   2.93663860e-01 1.96939755e-02 1.57554410e+01]]\n",
      "\n",
      " [[0.00000000e+00 1.81818182e-01 5.99053396e-01 8.24758880e-01\n",
      "   0.00000000e+00 1.86563844e-02 2.04190330e+01]]\n",
      "\n",
      " [[0.00000000e+00 2.72727273e-01 7.86649939e-01 9.60379592e-01\n",
      "   4.89286833e-01 1.68552786e-01 2.29386750e+01]]\n",
      "\n",
      " [[0.00000000e+00 3.63636364e-01 8.79432068e-01 9.77465967e-01\n",
      "   7.42094773e-01 6.21811949e-01 2.41848480e+01]]\n",
      "\n",
      " [[0.00000000e+00 4.54545455e-01 9.72573062e-01 1.00000000e+00\n",
      "   1.00000000e+00 1.00000000e+00 2.54358410e+01]]\n",
      "\n",
      " [[0.00000000e+00 5.45454545e-01 9.87785655e-01 9.22029387e-01\n",
      "   9.59398717e-01 8.12195707e-01 2.56401640e+01]]\n",
      "\n",
      " [[0.00000000e+00 6.36363636e-01 1.00000000e+00 8.83005990e-01\n",
      "   9.36093776e-01 7.44226339e-01 2.58042170e+01]]\n",
      "\n",
      " [[0.00000000e+00 7.27272727e-01 9.74818957e-01 9.02469826e-01\n",
      "   9.75384952e-01 7.02217376e-01 2.54660060e+01]]\n",
      "\n",
      " [[0.00000000e+00 8.18181818e-01 9.46045599e-01 9.15291360e-01\n",
      "   8.72025503e-01 4.44472960e-01 2.50795460e+01]]\n",
      "\n",
      " [[0.00000000e+00 9.09090909e-01 4.72274168e-01 5.43561723e-01\n",
      "   6.61354174e-01 0.00000000e+00 1.87162390e+01]]]\n"
     ]
    }
   ],
   "source": [
    "# for-2024\n",
    "\n",
    "def create_sequencesz(data, sequence_length):\n",
    "    sequences = []\n",
    "    target_values = []\n",
    "    for i in range(len(data) - sequence_length):\n",
    "        seq = data[i:i+sequence_length]\n",
    "#         label = target[i+sequence_length]\n",
    "        sequences.append(seq)\n",
    "#         target_values.append(label)\n",
    "    return np.array(sequences), np.array(target_values)\n",
    "\n",
    "\n",
    "\n",
    "database2024 = pd.read_csv('C:/Users/User/anaconda3/Dengue/Database/2024-database-only.csv')\n",
    "data = database2024 [['YEAR','MONTH','MIN', 'MAX', 'HUMIDITY', 'RAINFALL']]\n",
    "y = database2024[['MIN']]  # Two target variables\n",
    "print(\"data :\\n\",data)\n",
    "# print(\"data shape:\",data.shape)\n",
    "# print(\"y shape:\",y.shape)\n",
    "X_combined = MinMaxScaler().fit_transform(data)\n",
    "sequence_length = 1\n",
    "# Create sequences\n",
    "X_seq, y_seq = create_sequencesz(np.column_stack((X_combined, y)),  sequence_length)\n",
    "# print('X_seq:',X_seq.shape)\n",
    "# print('y_seq:',y_seq.shape)\n",
    "# x_train, x_test, y_train, y_test = train_test_split(X_seq, y_seq, test_size=0.2, random_state=42)\n",
    "x_test = X_seq\n",
    "# print('X_combined:',X_combined.shape)\n",
    "# print('y:',y.shape)\n",
    "# print('X_seq:',X_seq.shape)\n",
    "# print('y_seq:',y_seq.shape)\n",
    "# print('x_train:',x_train.shape)\n",
    "# print('y_train:',y_train.shape)\n",
    "# print('x_test:',x_test.shape)\n",
    "# print('y_test:',y_test.shape)\n",
    "\n",
    "# history = model.fit(x_train, y_train, epochs=3, batch_size=3, \n",
    "#                     validation_data=(x_test, y_test),  \n",
    "#                     verbose=2)\n",
    "\n",
    "print('x_test:',x_test.shape)\n",
    "\n",
    "predictions = model.predict(x_test)\n",
    "print('predictions:',predictions)\n",
    "print('x_test:',x_test)\n"
   ]
  },
  {
   "cell_type": "code",
   "execution_count": null,
   "metadata": {},
   "outputs": [],
   "source": []
  },
  {
   "cell_type": "code",
   "execution_count": null,
   "metadata": {},
   "outputs": [],
   "source": []
  },
  {
   "cell_type": "code",
   "execution_count": null,
   "metadata": {},
   "outputs": [],
   "source": []
  },
  {
   "cell_type": "code",
   "execution_count": null,
   "metadata": {},
   "outputs": [],
   "source": []
  },
  {
   "cell_type": "code",
   "execution_count": null,
   "metadata": {},
   "outputs": [],
   "source": []
  },
  {
   "cell_type": "code",
   "execution_count": null,
   "metadata": {},
   "outputs": [],
   "source": []
  }
 ],
 "metadata": {
  "colab": {
   "provenance": []
  },
  "kernelspec": {
   "display_name": "Python 3 (ipykernel)",
   "language": "python",
   "name": "python3"
  },
  "language_info": {
   "codemirror_mode": {
    "name": "ipython",
    "version": 3
   },
   "file_extension": ".py",
   "mimetype": "text/x-python",
   "name": "python",
   "nbconvert_exporter": "python",
   "pygments_lexer": "ipython3",
   "version": "3.11.5"
  }
 },
 "nbformat": 4,
 "nbformat_minor": 1
}
